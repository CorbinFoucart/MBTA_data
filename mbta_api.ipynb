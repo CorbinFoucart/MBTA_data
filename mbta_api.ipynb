{
 "cells": [
  {
   "cell_type": "code",
   "execution_count": 1,
   "metadata": {},
   "outputs": [],
   "source": [
    "import numpy as np\n",
    "import pandas as pd\n",
    "import requests\n",
    "import json"
   ]
  },
  {
   "cell_type": "code",
   "execution_count": 2,
   "metadata": {},
   "outputs": [],
   "source": [
    "# load api keys from api_keys.txt file\n",
    "mbta_api = 'https://api-v3.mbta.com/'\n",
    "\n",
    "api_keys = dict()\n",
    "with open('api_keys.txt', 'r') as f:\n",
    "    for line in f.readlines():\n",
    "        name, key = line.split('=')\n",
    "        api_keys[name] = key.rstrip()"
   ]
  },
  {
   "cell_type": "code",
   "execution_count": 3,
   "metadata": {},
   "outputs": [],
   "source": [
    "# setup google maps\n",
    "import gmaps\n",
    "import gmaps.datasets\n",
    "gmaps.configure(api_key=api_keys['gmaps_api_key'])"
   ]
  },
  {
   "cell_type": "code",
   "execution_count": 4,
   "metadata": {},
   "outputs": [
    {
     "data": {
      "text/plain": [
       "200"
      ]
     },
     "execution_count": 4,
     "metadata": {},
     "output_type": "execute_result"
    }
   ],
   "source": [
    "r = requests.get(mbta_api+'routes/')\n",
    "r.status_code"
   ]
  },
  {
   "cell_type": "code",
   "execution_count": 5,
   "metadata": {},
   "outputs": [],
   "source": [
    "r.headers['content-type']\n",
    "route_data = r.json()['data']"
   ]
  },
  {
   "cell_type": "code",
   "execution_count": 6,
   "metadata": {},
   "outputs": [
    {
     "data": {
      "text/plain": [
       "{'data': {'attributes': {'color': 'FFC72C',\n",
       "   'description': 'Key Bus Route (Frequent Service)',\n",
       "   'direction_names': ['Outbound', 'Inbound'],\n",
       "   'long_name': '',\n",
       "   'short_name': '1',\n",
       "   'sort_order': 100,\n",
       "   'text_color': '000000',\n",
       "   'type': 3},\n",
       "  'id': '1',\n",
       "  'links': {'self': '/routes/1'},\n",
       "  'type': 'route'},\n",
       " 'jsonapi': {'version': '1.0'}}"
      ]
     },
     "execution_count": 6,
     "metadata": {},
     "output_type": "execute_result"
    }
   ],
   "source": [
    "route_1 = [d for d in route_data if d['id'] == '1']\n",
    "route_1_link = route_1[0]['links']['self']\n",
    "route_1_data = requests.get('https://api-v3.mbta.com/routes/1')\n",
    "route_1_data.json()"
   ]
  },
  {
   "cell_type": "code",
   "execution_count": 7,
   "metadata": {},
   "outputs": [],
   "source": [
    "vehicle_request = requests.get(mbta_api+'vehicles/').json()['data']"
   ]
  },
  {
   "cell_type": "code",
   "execution_count": 8,
   "metadata": {},
   "outputs": [
    {
     "data": {
      "text/plain": [
       "{'attributes': {'bearing': 330.0,\n",
       "  'current_status': 'INCOMING_AT',\n",
       "  'current_stop_sequence': 60,\n",
       "  'direction_id': 1,\n",
       "  'label': '1612',\n",
       "  'last_updated': '2018-04-29T13:48:52-04:00',\n",
       "  'latitude': 42.29161071777344,\n",
       "  'longitude': -71.06536865234375,\n",
       "  'speed': None},\n",
       " 'id': 'R-54554657',\n",
       " 'links': {'self': '/vehicles/R-54554657'},\n",
       " 'relationships': {'route': {'data': {'id': 'Red', 'type': 'route'}},\n",
       "  'stop': {'data': {'id': '70092', 'type': 'stop'}},\n",
       "  'trip': {'data': {'id': 'ADDED-1524988080', 'type': 'trip'}}},\n",
       " 'type': 'vehicle'}"
      ]
     },
     "execution_count": 8,
     "metadata": {},
     "output_type": "execute_result"
    }
   ],
   "source": [
    "red_line_trains = [v for v in vehicle_request if v['relationships']['route']['data']['id'] == 'Red']\n",
    "red_line_trains[0]"
   ]
  },
  {
   "cell_type": "code",
   "execution_count": 9,
   "metadata": {},
   "outputs": [
    {
     "data": {
      "text/plain": [
       "array([[ 42.29161072, -71.06536865],\n",
       "       [ 42.37960052, -71.12030029],\n",
       "       [ 42.28868866, -71.06497955],\n",
       "       [ 42.35591125, -71.06149292],\n",
       "       [ 42.34273148, -71.05706787],\n",
       "       [ 42.35266113, -71.05535889],\n",
       "       [ 42.22515869, -71.00386047],\n",
       "       [ 42.29592896, -71.04989624],\n",
       "       [ 42.34064102, -71.05708313],\n",
       "       [ 42.37636185, -71.11910248],\n",
       "       [ 42.36278152, -71.0892868 ],\n",
       "       [ 42.22504044, -71.00383759],\n",
       "       [ 42.3961792 , -71.14054108]])"
      ]
     },
     "execution_count": 9,
     "metadata": {},
     "output_type": "execute_result"
    }
   ],
   "source": [
    "red_line_train_coords = [ (train['attributes']['latitude'], train['attributes']['longitude']) for train in red_line_trains ]\n",
    "rltc_array = np.asarray(red_line_train_coords)\n",
    "rltc_array"
   ]
  },
  {
   "cell_type": "code",
   "execution_count": 10,
   "metadata": {},
   "outputs": [
    {
     "data": {
      "application/vnd.jupyter.widget-view+json": {
       "model_id": "c81838fb3bbb45a5aa0e805cfd3c6a2c",
       "version_major": 2,
       "version_minor": 0
      },
      "text/plain": [
       "Figure(layout=FigureLayout(height='420px'))"
      ]
     },
     "metadata": {},
     "output_type": "display_data"
    }
   ],
   "source": [
    "# plot the trains on a map\n",
    "fig=gmaps.figure()\n",
    "fig.add_layer(gmaps.heatmap_layer(rltc_array))\n",
    "fig"
   ]
  },
  {
   "cell_type": "code",
   "execution_count": null,
   "metadata": {},
   "outputs": [],
   "source": []
  }
 ],
 "metadata": {
  "kernelspec": {
   "display_name": "mbta_env",
   "language": "python3",
   "name": "mbta_env"
  },
  "language_info": {
   "codemirror_mode": {
    "name": "ipython",
    "version": 3
   },
   "file_extension": ".py",
   "mimetype": "text/x-python",
   "name": "python",
   "nbconvert_exporter": "python",
   "pygments_lexer": "ipython3",
   "version": "3.6.4"
  },
  "toc": {
   "base_numbering": 1,
   "nav_menu": {},
   "number_sections": true,
   "sideBar": true,
   "skip_h1_title": false,
   "title_cell": "Table of Contents",
   "title_sidebar": "Contents",
   "toc_cell": false,
   "toc_position": {},
   "toc_section_display": true,
   "toc_window_display": false
  }
 },
 "nbformat": 4,
 "nbformat_minor": 2
}

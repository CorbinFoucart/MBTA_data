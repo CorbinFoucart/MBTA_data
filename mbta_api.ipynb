{
 "cells": [
  {
   "cell_type": "markdown",
   "metadata": {},
   "source": [
    "## notebook setup and configuration"
   ]
  },
  {
   "cell_type": "code",
   "execution_count": 31,
   "metadata": {},
   "outputs": [],
   "source": [
    "import numpy as np\n",
    "import pandas as pd\n",
    "import requests\n",
    "import json"
   ]
  },
  {
   "cell_type": "code",
   "execution_count": 32,
   "metadata": {},
   "outputs": [],
   "source": [
    "# load api keys from api_keys.txt file\n",
    "mbta_api = 'https://api-v3.mbta.com/'\n",
    "\n",
    "api_keys = dict()\n",
    "with open('api_keys.txt', 'r') as f:\n",
    "    for line in f.readlines():\n",
    "        name, key = line.split('=')\n",
    "        api_keys[name] = key.rstrip()"
   ]
  },
  {
   "cell_type": "code",
   "execution_count": 33,
   "metadata": {},
   "outputs": [],
   "source": [
    "# setup google maps\n",
    "import gmaps\n",
    "import gmaps.datasets\n",
    "gmaps.configure(api_key=api_keys['gmaps_api_key'])"
   ]
  },
  {
   "cell_type": "code",
   "execution_count": 4,
   "metadata": {},
   "outputs": [
    {
     "data": {
      "text/plain": [
       "200"
      ]
     },
     "execution_count": 4,
     "metadata": {},
     "output_type": "execute_result"
    }
   ],
   "source": [
    "r = requests.get(mbta_api+'routes/')\n",
    "r.status_code"
   ]
  },
  {
   "cell_type": "code",
   "execution_count": 5,
   "metadata": {},
   "outputs": [],
   "source": [
    "r.headers['content-type']\n",
    "route_data = r.json()['data']"
   ]
  },
  {
   "cell_type": "code",
   "execution_count": 6,
   "metadata": {},
   "outputs": [
    {
     "data": {
      "text/plain": [
       "{'data': {'attributes': {'color': 'FFC72C',\n",
       "   'description': 'Key Bus Route (Frequent Service)',\n",
       "   'direction_names': ['Outbound', 'Inbound'],\n",
       "   'long_name': '',\n",
       "   'short_name': '1',\n",
       "   'sort_order': 100,\n",
       "   'text_color': '000000',\n",
       "   'type': 3},\n",
       "  'id': '1',\n",
       "  'links': {'self': '/routes/1'},\n",
       "  'type': 'route'},\n",
       " 'jsonapi': {'version': '1.0'}}"
      ]
     },
     "execution_count": 6,
     "metadata": {},
     "output_type": "execute_result"
    }
   ],
   "source": [
    "route_1 = [d for d in route_data if d['id'] == '1']\n",
    "route_1_link = route_1[0]['links']['self']\n",
    "route_1_data = requests.get('https://api-v3.mbta.com/routes/1')\n",
    "route_1_data.json()"
   ]
  },
  {
   "cell_type": "markdown",
   "metadata": {},
   "source": [
    "# current train map"
   ]
  },
  {
   "cell_type": "code",
   "execution_count": 47,
   "metadata": {},
   "outputs": [
    {
     "data": {
      "text/plain": [
       "{'Red': {'color': 'DA291C',\n",
       "  'description': 'Rapid Transit',\n",
       "  'direction_names': ['Southbound', 'Northbound'],\n",
       "  'long_name': 'Red Line',\n",
       "  'short_name': '',\n",
       "  'sort_order': 1,\n",
       "  'text_color': 'FFFFFF',\n",
       "  'type': 1},\n",
       " 'Orange': {'color': 'ED8B00',\n",
       "  'description': 'Rapid Transit',\n",
       "  'direction_names': ['Southbound', 'Northbound'],\n",
       "  'long_name': 'Orange Line',\n",
       "  'short_name': '',\n",
       "  'sort_order': 2,\n",
       "  'text_color': 'FFFFFF',\n",
       "  'type': 1},\n",
       " 'Blue': {'color': '00843D',\n",
       "  'description': 'Rapid Transit',\n",
       "  'direction_names': ['Westbound', 'Eastbound'],\n",
       "  'long_name': 'Green Line B',\n",
       "  'short_name': 'B',\n",
       "  'sort_order': 3,\n",
       "  'text_color': 'FFFFFF',\n",
       "  'type': 0},\n",
       " 'Green-B': {'color': '00843D',\n",
       "  'description': 'Rapid Transit',\n",
       "  'direction_names': ['Westbound', 'Eastbound'],\n",
       "  'long_name': 'Green Line C',\n",
       "  'short_name': 'C',\n",
       "  'sort_order': 4,\n",
       "  'text_color': 'FFFFFF',\n",
       "  'type': 0},\n",
       " 'Green-C': {'color': '00843D',\n",
       "  'description': 'Rapid Transit',\n",
       "  'direction_names': ['Westbound', 'Eastbound'],\n",
       "  'long_name': 'Green Line D',\n",
       "  'short_name': 'D',\n",
       "  'sort_order': 5,\n",
       "  'text_color': 'FFFFFF',\n",
       "  'type': 0},\n",
       " 'Green-D': {'color': '00843D',\n",
       "  'description': 'Rapid Transit',\n",
       "  'direction_names': ['Westbound', 'Eastbound'],\n",
       "  'long_name': 'Green Line E',\n",
       "  'short_name': 'E',\n",
       "  'sort_order': 6,\n",
       "  'text_color': 'FFFFFF',\n",
       "  'type': 0},\n",
       " 'Green-E': {'color': '003DA5',\n",
       "  'description': 'Rapid Transit',\n",
       "  'direction_names': ['Westbound', 'Eastbound'],\n",
       "  'long_name': 'Blue Line',\n",
       "  'short_name': '',\n",
       "  'sort_order': 7,\n",
       "  'text_color': 'FFFFFF',\n",
       "  'type': 1}}"
      ]
     },
     "execution_count": 47,
     "metadata": {},
     "output_type": "execute_result"
    }
   ],
   "source": [
    "# get line names and colors\n",
    "train_line_ids = ['Red', 'Orange', 'Blue', 'Green-B', 'Green-C', 'Green-D', 'Green-E']\n",
    "train_route_data = [r['attributes'] for r in route_data if r['id'] in train_line_ids]\n",
    "trd = {key:value for key, value in zip(train_line_ids, train_route_data)}"
   ]
  },
  {
   "cell_type": "code",
   "execution_count": 34,
   "metadata": {},
   "outputs": [
    {
     "data": {
      "text/plain": [
       "{'attributes': {'bearing': 200.0,\n",
       "  'current_status': 'IN_TRANSIT_TO',\n",
       "  'current_stop_sequence': 130,\n",
       "  'direction_id': 0,\n",
       "  'label': '1502',\n",
       "  'last_updated': '2018-04-29T18:26:29-04:00',\n",
       "  'latitude': 42.32915115356445,\n",
       "  'longitude': -71.05667877197266,\n",
       "  'speed': None},\n",
       " 'id': 'R-54554657',\n",
       " 'links': {'self': '/vehicles/R-54554657'},\n",
       " 'relationships': {'route': {'data': {'id': 'Red', 'type': 'route'}},\n",
       "  'stop': {'data': {'id': '70085', 'type': 'stop'}},\n",
       "  'trip': {'data': {'id': 'ADDED-1524988862', 'type': 'trip'}}},\n",
       " 'type': 'vehicle'}"
      ]
     },
     "execution_count": 34,
     "metadata": {},
     "output_type": "execute_result"
    }
   ],
   "source": [
    "def query_vehicles():\n",
    "    vehicle_request = requests.get(mbta_api+'vehicles/').json()['data']\n",
    "    return vehicle_request\n",
    "\n",
    "def line_vehicles(vehicle_data, line_id):\n",
    "    return [v for v in vehicle_data if v['relationships']['route']['data']['id'] == line_id]\n",
    "\n",
    "def vehicle_lat_lon(vehicles):\n",
    "    return [(v['attributes']['latitude'], v['attributes']['longitude']) for v in vehicles ]\n",
    "\n",
    "vehicle_data = query_vehicles()\n",
    "red_line_trains = line_vehicles(vehicle_data, line_id='Red')\n",
    "red_line_trains[0]"
   ]
  },
  {
   "cell_type": "code",
   "execution_count": 35,
   "metadata": {},
   "outputs": [
    {
     "data": {
      "text/plain": [
       "array([[ 42.32915115, -71.05667877],\n",
       "       [ 42.38388062, -71.11978912],\n",
       "       [ 42.35649872, -71.0626297 ],\n",
       "       [ 42.3162384 , -71.0521698 ],\n",
       "       [ 42.29320145, -71.06585693],\n",
       "       [ 42.25830078, -71.0116806 ],\n",
       "       [ 42.29668045, -71.0512619 ],\n",
       "       [ 42.24995041, -71.00434113],\n",
       "       [ 42.32051849, -71.05223083],\n",
       "       [ 42.3670311 , -71.10626984],\n",
       "       [ 42.36243057, -71.0858078 ],\n",
       "       [ 42.35145187, -71.05552673],\n",
       "       [ 42.3961792 , -71.14054108]])"
      ]
     },
     "execution_count": 35,
     "metadata": {},
     "output_type": "execute_result"
    }
   ],
   "source": [
    "red_line_lat_lon = np.asarray(vehicle_lat_lon(red_line_trains))\n",
    "rltc_array = red_line_lat_lon\n",
    "rltc_array"
   ]
  },
  {
   "cell_type": "markdown",
   "metadata": {},
   "source": [
    "plot the train locations on a map"
   ]
  },
  {
   "cell_type": "code",
   "execution_count": 36,
   "metadata": {},
   "outputs": [],
   "source": [
    "# create a gmaps symbol layer of red dots\n",
    "trans_red = \"rgba(200, 0, 0, 0.4)\"\n",
    "red_line_dots = gmaps.symbol_layer(\n",
    "    rltc_array, fill_color=trans_red,\n",
    "    stroke_color=trans_red, scale=3\n",
    ")"
   ]
  },
  {
   "cell_type": "code",
   "execution_count": 37,
   "metadata": {},
   "outputs": [],
   "source": [
    "figure_layout = {\n",
    "    'width':'500px',\n",
    "    'height':'500px'\n",
    "}"
   ]
  },
  {
   "cell_type": "code",
   "execution_count": 38,
   "metadata": {},
   "outputs": [
    {
     "data": {
      "application/vnd.jupyter.widget-view+json": {
       "model_id": "416e8114cc104ec7b9dc344cc3fef9ec",
       "version_major": 2,
       "version_minor": 0
      },
      "text/plain": [
       "Figure(layout=FigureLayout(height='500px', width='500px'))"
      ]
     },
     "metadata": {},
     "output_type": "display_data"
    }
   ],
   "source": [
    "fig=gmaps.figure(layout=figure_layout)\n",
    "fig.add_layer(red_line_dots)\n",
    "fig.add_layer(gmaps.transit_layer())\n",
    "fig"
   ]
  },
  {
   "cell_type": "code",
   "execution_count": null,
   "metadata": {},
   "outputs": [],
   "source": []
  }
 ],
 "metadata": {
  "kernelspec": {
   "display_name": "mbta_env",
   "language": "python3",
   "name": "mbta_env"
  },
  "language_info": {
   "codemirror_mode": {
    "name": "ipython",
    "version": 3
   },
   "file_extension": ".py",
   "mimetype": "text/x-python",
   "name": "python",
   "nbconvert_exporter": "python",
   "pygments_lexer": "ipython3",
   "version": "3.6.4"
  },
  "toc": {
   "base_numbering": 1,
   "nav_menu": {},
   "number_sections": true,
   "sideBar": true,
   "skip_h1_title": false,
   "title_cell": "Table of Contents",
   "title_sidebar": "Contents",
   "toc_cell": false,
   "toc_position": {},
   "toc_section_display": true,
   "toc_window_display": false
  }
 },
 "nbformat": 4,
 "nbformat_minor": 2
}

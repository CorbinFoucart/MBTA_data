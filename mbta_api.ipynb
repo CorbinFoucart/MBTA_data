{
 "cells": [
  {
   "cell_type": "code",
   "execution_count": 1,
   "metadata": {},
   "outputs": [],
   "source": [
    "import numpy as np\n",
    "import pandas as pd\n",
    "import requests\n",
    "import json"
   ]
  },
  {
   "cell_type": "code",
   "execution_count": 2,
   "metadata": {},
   "outputs": [],
   "source": [
    "# load api keys from api_keys.txt file\n",
    "mbta_api = 'https://api-v3.mbta.com/'\n",
    "\n",
    "api_keys = dict()\n",
    "with open('api_keys.txt', 'r') as f:\n",
    "    for line in f.readlines():\n",
    "        name, key = line.split('=')\n",
    "        api_keys[name] = key.rstrip()"
   ]
  },
  {
   "cell_type": "code",
   "execution_count": 3,
   "metadata": {},
   "outputs": [],
   "source": [
    "# setup google maps\n",
    "import gmaps\n",
    "import gmaps.datasets\n",
    "gmaps.configure(api_key=api_keys['gmaps_api_key'])"
   ]
  },
  {
   "cell_type": "code",
   "execution_count": 4,
   "metadata": {},
   "outputs": [
    {
     "data": {
      "text/plain": [
       "200"
      ]
     },
     "execution_count": 4,
     "metadata": {},
     "output_type": "execute_result"
    }
   ],
   "source": [
    "r = requests.get(mbta_api+'routes/')\n",
    "r.status_code"
   ]
  },
  {
   "cell_type": "code",
   "execution_count": 5,
   "metadata": {},
   "outputs": [],
   "source": [
    "r.headers['content-type']\n",
    "route_data = r.json()['data']"
   ]
  },
  {
   "cell_type": "code",
   "execution_count": 6,
   "metadata": {},
   "outputs": [
    {
     "data": {
      "text/plain": [
       "{'data': {'attributes': {'color': 'FFC72C',\n",
       "   'description': 'Key Bus Route (Frequent Service)',\n",
       "   'direction_names': ['Outbound', 'Inbound'],\n",
       "   'long_name': '',\n",
       "   'short_name': '1',\n",
       "   'sort_order': 100,\n",
       "   'text_color': '000000',\n",
       "   'type': 3},\n",
       "  'id': '1',\n",
       "  'links': {'self': '/routes/1'},\n",
       "  'type': 'route'},\n",
       " 'jsonapi': {'version': '1.0'}}"
      ]
     },
     "execution_count": 6,
     "metadata": {},
     "output_type": "execute_result"
    }
   ],
   "source": [
    "route_1 = [d for d in route_data if d['id'] == '1']\n",
    "route_1_link = route_1[0]['links']['self']\n",
    "route_1_data = requests.get('https://api-v3.mbta.com/routes/1')\n",
    "route_1_data.json()"
   ]
  },
  {
   "cell_type": "code",
   "execution_count": 7,
   "metadata": {},
   "outputs": [],
   "source": [
    "vehicle_request = requests.get(mbta_api+'vehicles/').json()['data']"
   ]
  },
  {
   "cell_type": "code",
   "execution_count": 8,
   "metadata": {},
   "outputs": [
    {
     "data": {
      "text/plain": [
       "{'attributes': {'bearing': 290.0,\n",
       "  'current_status': 'IN_TRANSIT_TO',\n",
       "  'current_stop_sequence': 140,\n",
       "  'direction_id': 1,\n",
       "  'label': '1612',\n",
       "  'last_updated': '2018-04-29T14:04:51-04:00',\n",
       "  'latitude': 42.353111267089844,\n",
       "  'longitude': -71.05616760253906,\n",
       "  'speed': None},\n",
       " 'id': 'R-54554657',\n",
       " 'links': {'self': '/vehicles/R-54554657'},\n",
       " 'relationships': {'route': {'data': {'id': 'Red', 'type': 'route'}},\n",
       "  'stop': {'data': {'id': '70078', 'type': 'stop'}},\n",
       "  'trip': {'data': {'id': 'ADDED-1524988080', 'type': 'trip'}}},\n",
       " 'type': 'vehicle'}"
      ]
     },
     "execution_count": 8,
     "metadata": {},
     "output_type": "execute_result"
    }
   ],
   "source": [
    "red_line_trains = [v for v in vehicle_request if v['relationships']['route']['data']['id'] == 'Red']\n",
    "red_line_trains[0]"
   ]
  },
  {
   "cell_type": "code",
   "execution_count": 9,
   "metadata": {},
   "outputs": [
    {
     "data": {
      "text/plain": [
       "array([[ 42.35311127, -71.0561676 ],\n",
       "       [ 42.3670311 , -71.10626984],\n",
       "       [ 42.29996872, -71.06181335],\n",
       "       [ 42.30001831, -71.06182861],\n",
       "       [ 42.3506012 , -71.05568695],\n",
       "       [ 42.32268906, -71.05278778],\n",
       "       [ 42.29592896, -71.04989624],\n",
       "       [ 42.35649872, -71.0626297 ],\n",
       "       [ 42.25202942, -71.00550842],\n",
       "       [ 42.38825989, -71.11894989],\n",
       "       [ 42.3961792 , -71.14054108],\n",
       "       [ 42.24018097, -71.00518036],\n",
       "       [ 42.36288834, -71.09249115]])"
      ]
     },
     "execution_count": 9,
     "metadata": {},
     "output_type": "execute_result"
    }
   ],
   "source": [
    "red_line_train_coords = [ (train['attributes']['latitude'], train['attributes']['longitude']) for train in red_line_trains ]\n",
    "rltc_array = np.asarray(red_line_train_coords)\n",
    "rltc_array"
   ]
  },
  {
   "cell_type": "markdown",
   "metadata": {},
   "source": [
    "plot the train locations on a map"
   ]
  },
  {
   "cell_type": "code",
   "execution_count": 10,
   "metadata": {},
   "outputs": [],
   "source": [
    "# create a gmaps symbol layer of red dots\n",
    "trans_red = \"rgba(200, 0, 0, 0.4)\"\n",
    "red_line_dots = gmaps.symbol_layer(\n",
    "    rltc_array, fill_color=trans_red,\n",
    "    stroke_color=trans_red, scale=3\n",
    ")"
   ]
  },
  {
   "cell_type": "code",
   "execution_count": 23,
   "metadata": {},
   "outputs": [],
   "source": [
    "figure_layout = {\n",
    "    'width':'500px',\n",
    "    'height':'500px'\n",
    "}"
   ]
  },
  {
   "cell_type": "code",
   "execution_count": 24,
   "metadata": {},
   "outputs": [
    {
     "data": {
      "application/vnd.jupyter.widget-view+json": {
       "model_id": "05c4f690c02f4fa996b6f5392b0c270d",
       "version_major": 2,
       "version_minor": 0
      },
      "text/plain": [
       "Figure(layout=FigureLayout(height='500px', width='500px'))"
      ]
     },
     "metadata": {},
     "output_type": "display_data"
    }
   ],
   "source": [
    "fig=gmaps.figure(layout=figure_layout)\n",
    "fig.add_layer(red_line_dots)\n",
    "fig.add_layer(gmaps.transit_layer())\n",
    "fig"
   ]
  },
  {
   "cell_type": "code",
   "execution_count": null,
   "metadata": {},
   "outputs": [],
   "source": []
  }
 ],
 "metadata": {
  "kernelspec": {
   "display_name": "mbta_env",
   "language": "python3",
   "name": "mbta_env"
  },
  "language_info": {
   "codemirror_mode": {
    "name": "ipython",
    "version": 3
   },
   "file_extension": ".py",
   "mimetype": "text/x-python",
   "name": "python",
   "nbconvert_exporter": "python",
   "pygments_lexer": "ipython3",
   "version": "3.6.4"
  },
  "toc": {
   "base_numbering": 1,
   "nav_menu": {},
   "number_sections": true,
   "sideBar": true,
   "skip_h1_title": false,
   "title_cell": "Table of Contents",
   "title_sidebar": "Contents",
   "toc_cell": false,
   "toc_position": {},
   "toc_section_display": true,
   "toc_window_display": false
  }
 },
 "nbformat": 4,
 "nbformat_minor": 2
}
